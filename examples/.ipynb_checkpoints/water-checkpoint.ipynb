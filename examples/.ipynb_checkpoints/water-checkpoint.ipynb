{
 "cells": [
  {
   "cell_type": "markdown",
   "metadata": {},
   "source": [
    "# Examples Using a Water Molecule\n",
    "\n",
    "This is a basic example workflow where we will perform some calculations with **AMS2020.1**. The examples are similar to the official documentation, but have some additional documentation available.\n",
    "\n",
    "## 0. Setting up the environment\n",
    "\n",
    "First of all, we need to assure that we use the ams python shell. this can be assured in Jupyter lab by looking on the upperright corner, where we see 'AMS2020.1.venv'. When using a script, the relevant python-shell can be set by starting the script with a shebang (assure that AMS is loaded or installed).\n",
    "```python\n",
    "#!/usr/bin/env amspython\n",
    "```\n",
    "or\n",
    "```python\n",
    "#~/ams2021.202.r94433/bin/amspython\n",
    "```\n",
    "First of all,\n",
    "We import all functions from plams and params using the first 2 lines of code.\n",
    "\n",
    "On top, we import \n",
    "* ```numpy```. This is a numerical python library that includes highly-efficient array operations.\n",
    "* ```matplotlib```. Popular plotting library\n",
    "\n",
    "Once all libraries are imported, we assign a few paths to the relevant files. \n",
    "```ffield``` points to the water force field, ```geo``` to the geo file, *etc...*.\n",
    "These will be used later on."
   ]
  },
  {
   "cell_type": "code",
   "execution_count": 1,
   "metadata": {},
   "outputs": [],
   "source": [
    "from scm.plams import *\n",
    "from scm.params import *\n",
    "\n",
    "import numpy as np\n",
    "import matplotlib.pyplot as plt"
   ]
  },
  {
   "cell_type": "code",
   "execution_count": 2,
   "metadata": {},
   "outputs": [],
   "source": [
    "# Assigning the different (full) paths to the relevant files\n",
    "ffield = '/work/dumortil/Documents/software/params_runscript_examples/data/Water2017.ff'\n",
    "geo = '/work/dumortil/Documents/software/params_runscript_examples/data/geo'\n",
    "trainingset = '/work/dumortil/Documents/software/params_runscript_examples/data/trainset.in'\n",
    "xyz = '/work/dumortil/Documents/software/params_runscript_examples/data/water.xyz'"
   ]
  },
  {
   "cell_type": "markdown",
   "metadata": {},
   "source": [
    "## 1. Geometry Optimization\n",
    "In the next part, we will focus on Geometry Optimization. The geometry optimization procedure itself does not change, however we are going to set up the environment with 3 different approaches: Using a conversion from the old input files, using the conventional input file and building it up from scratch."
   ]
  },
  {
   "cell_type": "markdown",
   "metadata": {},
   "source": [
    "### 1.1 Compatible with old interface"
   ]
  },
  {
   "cell_type": "code",
   "execution_count": 3,
   "metadata": {},
   "outputs": [],
   "source": [
    "# Defining the settings for the geometry optimization\n",
    "s = Settings()\n",
    "s.input.ams.Task = 'GeometryOptimization'\n",
    "s.input.ams.GeometryOptimization.Method = 'FIRE'\n",
    "s.input.ams.GeometryOptimization.MaxIterations = 1000\n",
    "s.input.reaxff.ForceField = ffield"
   ]
  },
  {
   "cell_type": "code",
   "execution_count": 4,
   "metadata": {},
   "outputs": [],
   "source": [
    "# Here we read in the geo file. It automatically extracts some settings. \n",
    "# Extra settings can be provided by the normal_run_settings.\n",
    "# If you want to edit the settings, you must do this afterwards.\n",
    "jobcollection = geo_to_params(geo, normal_run_settings=Settings())\n",
    "jobs = jobcollection.to_amsjobs()\n",
    "jobs[0].settings = s"
   ]
  },
  {
   "cell_type": "code",
   "execution_count": 5,
   "metadata": {},
   "outputs": [
    {
     "name": "stdout",
     "output_type": "stream",
     "text": [
      "[23:43:18] PLAMS working folder: /work/dumortil/Documents/software/params_runscript_examples/examples/plams_workdir\n",
      "[23:43:18] JOB coordinates STARTED\n",
      "[23:43:18] JOB coordinates RUNNING\n",
      "[23:43:19] JOB coordinates FINISHED\n",
      "[23:43:19] JOB coordinates SUCCESSFUL\n",
      "[23:43:19] PLAMS run finished. Goodbye\n"
     ]
    }
   ],
   "source": [
    "# starting the geometry optimization\n",
    "# This first requires an init() and must be closed with the finish() command.\n",
    "init()\n",
    "jr = JobRunner(parallel=True, maxjobs=0)\n",
    "jobs[0].run(jobrunner=jr)\n",
    "finish()"
   ]
  },
  {
   "cell_type": "markdown",
   "metadata": {},
   "source": [
    "### 1.3 From *.xyz* file\n",
    "By reading in a xyz file instead, we can circumvent the conversion of the old reaxff interface. This approach is the most conventional way of working with plams and ParAMS."
   ]
  },
  {
   "cell_type": "code",
   "execution_count": 6,
   "metadata": {},
   "outputs": [
    {
     "name": "stdout",
     "output_type": "stream",
     "text": [
      "  Atoms: \n",
      "    1         O      0.000000      0.000000      0.000000 \n",
      "    2         H      0.758602      0.000000      0.504284 \n",
      "    3         H      0.758602      0.000000     -0.504284 \n",
      "\n"
     ]
    }
   ],
   "source": [
    "# Reading in the xyz-file that contains the configuration of the water molecule\n",
    "mol = Molecule(xyz)\n",
    "print(mol)"
   ]
  },
  {
   "cell_type": "code",
   "execution_count": 7,
   "metadata": {},
   "outputs": [],
   "source": [
    "# Add a small disturbance\n",
    "mol.atoms[2].coords=(1.0,0.0,-0.4)"
   ]
  },
  {
   "cell_type": "code",
   "execution_count": 8,
   "metadata": {},
   "outputs": [],
   "source": [
    "# Defining the settings for the geometry optimization\n",
    "s = Settings()\n",
    "s.input.ams.Task = 'GeometryOptimization'\n",
    "s.input.ams.GeometryOptimization.Method = 'FIRE'\n",
    "s.input.ams.GeometryOptimization.MaxIterations = 1000\n",
    "s.input.reaxff.ForceField = ffield"
   ]
  },
  {
   "cell_type": "code",
   "execution_count": 9,
   "metadata": {},
   "outputs": [],
   "source": [
    "# Building the job\n",
    "job = AMSJob(molecule=mol, settings=s)"
   ]
  },
  {
   "cell_type": "code",
   "execution_count": 10,
   "metadata": {},
   "outputs": [
    {
     "name": "stdout",
     "output_type": "stream",
     "text": [
      "[23:43:19] PLAMS working folder: /work/dumortil/Documents/software/params_runscript_examples/examples/plams_workdir.002\n",
      "[23:43:19] JOB plamsjob STARTED\n",
      "[23:43:19] JOB plamsjob RUNNING\n",
      "[23:43:20] JOB plamsjob FINISHED\n",
      "[23:43:20] JOB plamsjob SUCCESSFUL\n",
      "[23:43:20] PLAMS run finished. Goodbye\n"
     ]
    }
   ],
   "source": [
    "init()\n",
    "results = job.run()\n",
    "finish()"
   ]
  },
  {
   "cell_type": "markdown",
   "metadata": {},
   "source": [
    "### 1.2 From scratch\n",
    "Here we will build up the molecule from scratch and build the job that needs to be run. Such an approach can be useful for generating small molecules, exotic molecules, highly symmetric molecules (exploit loops) and/or manually adding disturbances."
   ]
  },
  {
   "cell_type": "code",
   "execution_count": 11,
   "metadata": {},
   "outputs": [],
   "source": [
    "mol = Molecule()\n",
    "mol.add_atom(Atom(symbol='O', coords=(0.00,0.00,0.00)))\n",
    "mol.add_atom(Atom(symbol='H', coords=(1.00,0.00,1)))\n",
    "mol.add_atom(Atom(symbol='H', coords=(0.00,1.00,-1)))\n"
   ]
  },
  {
   "cell_type": "code",
   "execution_count": 12,
   "metadata": {},
   "outputs": [],
   "source": [
    "# Defining the settings for the geometry optimization\n",
    "s = Settings()\n",
    "s.input.ams.Task = 'GeometryOptimization'\n",
    "s.input.ams.GeometryOptimization.Method = 'FIRE'\n",
    "s.input.ams.GeometryOptimization.MaxIterations = 1000\n",
    "s.input.reaxff.ForceField = ffield"
   ]
  },
  {
   "cell_type": "code",
   "execution_count": 13,
   "metadata": {},
   "outputs": [
    {
     "name": "stdout",
     "output_type": "stream",
     "text": [
      "  Atoms: \n",
      "    1         O      0.000000      0.000000      0.000000 \n",
      "    2         H      1.000000      0.000000      1.000000 \n",
      "    3         H      0.000000      1.000000     -1.000000 \n",
      "\n"
     ]
    }
   ],
   "source": [
    "print(mol)"
   ]
  },
  {
   "cell_type": "code",
   "execution_count": 14,
   "metadata": {},
   "outputs": [],
   "source": [
    "# Building the job\n",
    "job = AMSJob(molecule=mol, settings=s)"
   ]
  },
  {
   "cell_type": "code",
   "execution_count": 15,
   "metadata": {},
   "outputs": [
    {
     "name": "stdout",
     "output_type": "stream",
     "text": [
      "[23:43:21] PLAMS working folder: /work/dumortil/Documents/software/params_runscript_examples/examples/plams_workdir.003\n",
      "[23:43:21] JOB plamsjob STARTED\n",
      "[23:43:21] JOB plamsjob RUNNING\n",
      "[23:43:22] JOB plamsjob FINISHED\n",
      "[23:43:22] JOB plamsjob SUCCESSFUL\n",
      "[23:43:22] PLAMS run finished. Goodbye\n"
     ]
    }
   ],
   "source": [
    "init()\n",
    "results = job.run()\n",
    "finish()"
   ]
  },
  {
   "cell_type": "code",
   "execution_count": 16,
   "metadata": {},
   "outputs": [
    {
     "name": "stdout",
     "output_type": "stream",
     "text": [
      "  Atoms: \n",
      "    1         O      0.054998      0.054998      0.000000 \n",
      "    2         H      0.776520      0.168482      0.608039 \n",
      "    3         H      0.168482      0.776521     -0.608039 \n",
      "\n"
     ]
    }
   ],
   "source": [
    "# We can extract properties immediately, allowing to forward them immediately to the next process within the same script\n",
    "endmolecule = results.get_main_molecule()\n",
    "print(endmolecule)"
   ]
  },
  {
   "cell_type": "markdown",
   "metadata": {},
   "source": [
    "## 2. Multiple parallellized singlepoint calculations with a LennardJones potential\n",
    "This can be handy when DFT-code is available. For now, we use a simple LennardJones potential. Note that ParAMS and AMS can make use of multiple cores, but not yet of multiple nodes. There is the possibility to use all cores to solve the problems sequentially, or assign one core to one problem.\n"
   ]
  },
  {
   "cell_type": "markdown",
   "metadata": {},
   "source": [
    "### 2.1 Calculate 'reference'-data using the LennardJones potential"
   ]
  },
  {
   "cell_type": "code",
   "execution_count": 17,
   "metadata": {},
   "outputs": [],
   "source": [
    "# Define the jobrunner, and set the parallel option to True\n",
    "config.default_jobrunner = JobRunner(parallel=True)"
   ]
  },
  {
   "cell_type": "code",
   "execution_count": 18,
   "metadata": {},
   "outputs": [],
   "source": [
    "# Defining the settings for Single Point Lennard Jones\n",
    "s = Settings()\n",
    "s.input.ams.Task = 'Singlepoint'\n",
    "s.input.LennardJones.Cutoff = 10"
   ]
  },
  {
   "cell_type": "code",
   "execution_count": 19,
   "metadata": {},
   "outputs": [
    {
     "name": "stdout",
     "output_type": "stream",
     "text": [
      "input: \t\n",
      "      ams: \t\n",
      "          Task: \tSinglepoint\n",
      "      LennardJones: \t\n",
      "                   Cutoff: \t10\n",
      "\n"
     ]
    }
   ],
   "source": [
    "print(s)"
   ]
  },
  {
   "cell_type": "code",
   "execution_count": 29,
   "metadata": {},
   "outputs": [
    {
     "name": "stdout",
     "output_type": "stream",
     "text": [
      "Setting up molecule with distance 0.900000\n",
      "Setting up molecule with distance 0.950000\n",
      "Setting up molecule with distance 1.000000\n",
      "Setting up molecule with distance 1.050000\n",
      "Setting up molecule with distance 1.100000\n",
      "Setting up molecule with distance 1.150000\n",
      "Setting up molecule with distance 1.200000\n",
      "Setting up molecule with distance 1.250000\n",
      "Setting up molecule with distance 1.300000\n",
      "Setting up molecule with distance 1.350000\n",
      "Setting up molecule with distance 1.400000\n",
      "Setting up molecule with distance 1.450000\n",
      "Setting up molecule with distance 1.500000\n",
      "Setting up molecule with distance 1.550000\n",
      "Setting up molecule with distance 1.600000\n",
      "Setting up molecule with distance 1.650000\n",
      "Setting up molecule with distance 1.700000\n",
      "Setting up molecule with distance 1.750000\n",
      "Setting up molecule with distance 1.800000\n",
      "Setting up molecule with distance 1.850000\n",
      "Setting up molecule with distance 1.900000\n",
      "Setting up molecule with distance 1.950000\n"
     ]
    }
   ],
   "source": [
    "# Build multiple 'molecules' of H-H with different distances between each other\n",
    "# This can be conveniently done using a for-loop in python\n",
    "\n",
    "# first, we create an empty list 'jobs' to store all the job specifications (i.e. a singlepoint calculation)\n",
    "# These can then later be launched\n",
    "Jobs = []\n",
    "\n",
    "# Here we build up the Jobs. We start by generating a molecule in each loop, setting one H-atom at the center, \n",
    "# then one at a distance d in one direction. We set d from 0.5 till 4.1 with 0.1 intervals\n",
    "for d in np.arange(0.9, 2, 0.05):\n",
    "    print('Setting up molecule with distance {:3f}'.format(d))\n",
    "    mol = Molecule()\n",
    "    atom1 = Atom(symbol='H', coords=(0,0,0))\n",
    "    atom2 = Atom(symbol='H', coords=(d,0,0))\n",
    "    mol.add_atom(atom1)\n",
    "    mol.add_atom(atom2)\n",
    "    job = AMSJob(molecule=mol, settings=s)\n",
    "    job.name = 'distance_{:3f}'.format(d)\n",
    "    Jobs.append(job)"
   ]
  },
  {
   "cell_type": "code",
   "execution_count": 30,
   "metadata": {
    "tags": []
   },
   "outputs": [
    {
     "name": "stdout",
     "output_type": "stream",
     "text": [
      "[23:44:07] PLAMS working folder: /work/dumortil/Documents/software/params_runscript_examples/examples/plams_workdir.006\n",
      "[23:44:07] JOB distance_0.900000 STARTED\n",
      "[23:44:07] JOB distance_0.900000 RUNNING\n",
      "[23:44:08] JOB distance_0.900000 FINISHED\n",
      "[23:44:08] JOB distance_0.900000 SUCCESSFUL\n",
      "[23:44:08] JOB distance_0.950000 STARTED\n",
      "[23:44:08] JOB distance_0.950000 RUNNING\n",
      "[23:44:10] JOB distance_0.950000 FINISHED\n",
      "[23:44:10] JOB distance_0.950000 SUCCESSFUL\n",
      "[23:44:10] JOB distance_1.000000 STARTED\n",
      "[23:44:10] JOB distance_1.000000 RUNNING\n",
      "[23:44:11] JOB distance_1.000000 FINISHED\n",
      "[23:44:11] JOB distance_1.000000 SUCCESSFUL\n",
      "[23:44:11] JOB distance_1.050000 STARTED\n",
      "[23:44:11] JOB distance_1.050000 RUNNING\n",
      "[23:44:13] JOB distance_1.050000 FINISHED\n",
      "[23:44:13] JOB distance_1.050000 SUCCESSFUL\n",
      "[23:44:13] JOB distance_1.100000 STARTED\n",
      "[23:44:13] JOB distance_1.100000 RUNNING\n",
      "[23:44:14] JOB distance_1.100000 FINISHED\n",
      "[23:44:14] JOB distance_1.100000 SUCCESSFUL\n",
      "[23:44:14] JOB distance_1.150000 STARTED\n",
      "[23:44:14] JOB distance_1.150000 RUNNING\n",
      "[23:44:16] JOB distance_1.150000 FINISHED\n",
      "[23:44:16] JOB distance_1.150000 SUCCESSFUL\n",
      "[23:44:16] JOB distance_1.200000 STARTED\n",
      "[23:44:16] JOB distance_1.200000 RUNNING\n",
      "[23:44:17] JOB distance_1.200000 FINISHED\n",
      "[23:44:17] JOB distance_1.200000 SUCCESSFUL\n",
      "[23:44:17] JOB distance_1.250000 STARTED\n",
      "[23:44:17] JOB distance_1.250000 RUNNING\n",
      "[23:44:19] JOB distance_1.250000 FINISHED\n",
      "[23:44:19] JOB distance_1.250000 SUCCESSFUL\n",
      "[23:44:19] JOB distance_1.300000 STARTED\n",
      "[23:44:19] JOB distance_1.300000 RUNNING\n",
      "[23:44:21] JOB distance_1.300000 FINISHED\n",
      "[23:44:21] JOB distance_1.300000 SUCCESSFUL\n",
      "[23:44:21] JOB distance_1.350000 STARTED\n",
      "[23:44:21] JOB distance_1.350000 RUNNING\n",
      "[23:44:22] JOB distance_1.350000 FINISHED\n",
      "[23:44:22] JOB distance_1.350000 SUCCESSFUL\n",
      "[23:44:22] JOB distance_1.400000 STARTED\n",
      "[23:44:22] JOB distance_1.400000 RUNNING\n",
      "[23:44:24] JOB distance_1.400000 FINISHED\n",
      "[23:44:24] JOB distance_1.400000 SUCCESSFUL\n",
      "[23:44:24] JOB distance_1.450000 STARTED\n",
      "[23:44:24] JOB distance_1.450000 RUNNING\n",
      "[23:44:25] JOB distance_1.450000 FINISHED\n",
      "[23:44:25] JOB distance_1.450000 SUCCESSFUL\n",
      "[23:44:25] JOB distance_1.500000 STARTED\n",
      "[23:44:25] JOB distance_1.500000 RUNNING\n",
      "[23:44:27] JOB distance_1.500000 FINISHED\n",
      "[23:44:27] JOB distance_1.500000 SUCCESSFUL\n",
      "[23:44:27] JOB distance_1.550000 STARTED\n",
      "[23:44:27] JOB distance_1.550000 RUNNING\n",
      "[23:44:28] JOB distance_1.550000 FINISHED\n",
      "[23:44:28] JOB distance_1.550000 SUCCESSFUL\n",
      "[23:44:28] JOB distance_1.600000 STARTED\n",
      "[23:44:28] JOB distance_1.600000 RUNNING\n",
      "[23:44:30] JOB distance_1.600000 FINISHED\n",
      "[23:44:30] JOB distance_1.600000 SUCCESSFUL\n",
      "[23:44:30] JOB distance_1.650000 STARTED\n",
      "[23:44:30] JOB distance_1.650000 RUNNING\n",
      "[23:44:31] JOB distance_1.650000 FINISHED\n",
      "[23:44:31] JOB distance_1.650000 SUCCESSFUL\n",
      "[23:44:31] JOB distance_1.700000 STARTED\n",
      "[23:44:31] JOB distance_1.700000 RUNNING\n",
      "[23:44:33] JOB distance_1.700000 FINISHED\n",
      "[23:44:33] JOB distance_1.700000 SUCCESSFUL\n",
      "[23:44:33] JOB distance_1.750000 STARTED\n",
      "[23:44:33] JOB distance_1.750000 RUNNING\n",
      "[23:44:35] JOB distance_1.750000 FINISHED\n",
      "[23:44:35] JOB distance_1.750000 SUCCESSFUL\n",
      "[23:44:35] JOB distance_1.800000 STARTED\n",
      "[23:44:35] JOB distance_1.800000 RUNNING\n",
      "[23:44:36] JOB distance_1.800000 FINISHED\n",
      "[23:44:36] JOB distance_1.800000 SUCCESSFUL\n",
      "[23:44:36] JOB distance_1.850000 STARTED\n",
      "[23:44:36] JOB distance_1.850000 RUNNING\n",
      "[23:44:38] JOB distance_1.850000 FINISHED\n",
      "[23:44:38] JOB distance_1.850000 SUCCESSFUL\n",
      "[23:44:38] JOB distance_1.900000 STARTED\n",
      "[23:44:38] JOB distance_1.900000 RUNNING\n",
      "[23:44:40] JOB distance_1.900000 FINISHED\n",
      "[23:44:40] JOB distance_1.900000 SUCCESSFUL\n",
      "[23:44:40] JOB distance_1.950000 STARTED\n",
      "[23:44:40] JOB distance_1.950000 RUNNING\n",
      "[23:44:41] JOB distance_1.950000 FINISHED\n",
      "[23:44:41] JOB distance_1.950000 SUCCESSFUL\n",
      "[23:44:41] PLAMS run finished. Goodbye\n"
     ]
    }
   ],
   "source": [
    "# Now we can start all the jobs in parallel. We will store the results as well\n",
    "results_lennard =[]\n",
    "\n",
    "init()\n",
    "for job in Jobs:\n",
    "    results_lennard.append(job.run())\n",
    "finish()"
   ]
  },
  {
   "cell_type": "code",
   "execution_count": 31,
   "metadata": {},
   "outputs": [],
   "source": [
    "# Extracting the information a nice graph of the energy in function of the distances\n",
    "distances = []\n",
    "energies = []\n",
    "for res in results_lennard:\n",
    "    energies.append(res.get_energy())\n",
    "    mol = res.get_main_molecule()\n",
    "    distance = mol.atoms[1].coords[0] - mol.atoms[0].coords[0]\n",
    "    distances.append(distance)"
   ]
  },
  {
   "cell_type": "code",
   "execution_count": 32,
   "metadata": {},
   "outputs": [
    {
     "name": "stdout",
     "output_type": "stream",
     "text": [
      "Distances: [0.7564948655905124, 0.7557588096510289, 0.7524376920038321, 0.7496069546811753, 0.7467611219338011, 0.744194356018909, 0.7413558423228808, 0.7404780945163616, 0.740374277791845, 0.7410107756199416, 0.7445810657128877, 0.7492304437446823, 0.7547304675632449, 0.7628143308404322, 0.7722179825546457, 0.7749768322937859, 0.7575441364847952, 0.7460372335257232, 0.7726075639621954, 2.527056774438002, 2.5324355460885015, 2.5589295139585855]\n",
      "Energies: [-0.17344420092384902, -0.17344301088565078, -0.1734283729683765, -0.17340394380546537, -0.17336832819223846, -0.1733267222224926, -0.17327026706680393, -0.1732505937071791, -0.1732481976812448, -0.1732626576607033, -0.17333356508403192, -0.17339986741564156, -0.1734400993451362, -0.17342365069636956, -0.17329054845282027, -0.17322811164101573, -0.17344460676435045, -0.1733575038425447, -0.17328237667007163, -0.00012361778044518224, -0.00012446311620426743, -0.00012806430569214429]\n"
     ]
    }
   ],
   "source": [
    "print('Distances: {}'.format(distances))\n",
    "print('Energies: {}'.format(energies))"
   ]
  },
  {
   "cell_type": "code",
   "execution_count": 33,
   "metadata": {},
   "outputs": [
    {
     "data": {
      "image/png": "[encoded data removed]",
      "text/plain": [
       "<Figure size 432x288 with 1 Axes>"
      ]
     },
     "metadata": {
      "needs_background": "light"
     },
     "output_type": "display_data"
    }
   ],
   "source": [
    "fig, ax = plt.subplots()\n",
    "ax.plot(distances, energies)\n",
    "ax.set_title('Energy using the Lennard Jones potential')\n",
    "ax.set_xlabel('Distance')\n",
    "ax.set_ylabel('Energy')\n",
    "\n",
    "plt.tight_layout()\n",
    "plt.show()"
   ]
  },
  {
   "cell_type": "markdown",
   "metadata": {},
   "source": [
    "## 3. Molecular Dynamics\n",
    "Let's set up some Molecular dynamics with a few water molecules. We use the AMSInput GUI to define which settings we need.\n",
    "<img src='../md_water.png' alt='watermd'>"
   ]
  },
  {
   "cell_type": "code",
   "execution_count": 45,
   "metadata": {},
   "outputs": [],
   "source": [
    "# We use the runscript to guide our settings\n",
    "s = Settings()\n",
    "\n",
    "# setting up the molecular dynamics\n",
    "s.input.ams.Task = 'MolecularDynamics'\n",
    "s.input.ams.MolecularDynamics.Nsteps = 10000\n",
    "s.input.ams.MolecularDynamics.TimeStep = 0.1\n",
    "s.input.ams.MolecularDynamics.InitialVelocities.Temperature = 10\n",
    "\n",
    "# Setting up the thermostat\n",
    "s.input.ams.MolecularDynamics.Thermostat.Type = 'NHC'\n",
    "s.input.ams.MolecularDynamics.Thermostat.Temperature = 10\n",
    "s.input.ams.MolecularDynamics.Thermostat.Tau = 15\n",
    "\n",
    "# Setting up the engine and forcefield\n",
    "s.input.reaxff.ForceField = ffield\n",
    "s.input.reaxff.TaperBO = True"
   ]
  },
  {
   "cell_type": "code",
   "execution_count": 42,
   "metadata": {},
   "outputs": [],
   "source": [
    "# Read in the xyz file with 5 watermolecules quite close to each other\n",
    "multiple_molecules = '../data/5_water_mol.xyz'\n",
    "molecules = Molecule(multiple_molecules)"
   ]
  },
  {
   "cell_type": "code",
   "execution_count": 43,
   "metadata": {},
   "outputs": [],
   "source": [
    "job = AMSJob(molecule=molecules, settings=s)\n",
    "job.name = 'watermd'"
   ]
  },
  {
   "cell_type": "code",
   "execution_count": 44,
   "metadata": {},
   "outputs": [
    {
     "name": "stdout",
     "output_type": "stream",
     "text": [
      "[23:46:31] PLAMS working folder: /work/dumortil/Documents/software/params_runscript_examples/examples/plams_workdir.008\n",
      "[23:46:31] JOB watermd STARTED\n",
      "[23:46:31] JOB watermd RUNNING\n",
      "[23:46:45] JOB watermd FINISHED\n",
      "[23:46:45] JOB watermd SUCCESSFUL\n",
      "[23:46:45] PLAMS run finished. Goodbye\n"
     ]
    }
   ],
   "source": [
    "init()\n",
    "job.run()\n",
    "finish()"
   ]
  },
  {
   "cell_type": "markdown",
   "metadata": {},
   "source": [
    "## 4. Parameter optimization using ParAMS\n",
    "Up until now, ParAMS has only been used for some additional support on conversion between the old and new interface. It is only from this point on that ParAMS is to play a major role: the reparametrization of the force field. Note that ParAMS is the standard tool to reparametrize any tool that needs reparametrization in the AMS-suite."
   ]
  },
  {
   "cell_type": "markdown",
   "metadata": {},
   "source": [
    "### 4.1 Selecting Parameters to Optimize\n",
    "We start the process with reading in the force field. Note that this is a major difference than what we did earlier: In the earlier implementation, plams only pointed out to the engine where to find the force field, it never read it out itself. In other words, it is only the ReaxFF C++/fortran code that read in the force field. Using ParAMS, we have tools to read in and edit the Force Field using python itself."
   ]
  },
  {
   "cell_type": "code",
   "execution_count": 106,
   "metadata": {},
   "outputs": [],
   "source": [
    "# Note that we read in the force field specifically here.\n",
    "parameters = ReaxParams(ffield)"
   ]
  },
  {
   "cell_type": "code",
   "execution_count": 107,
   "metadata": {},
   "outputs": [
    {
     "name": "stdout",
     "output_type": "stream",
     "text": [
      "Parameters in Force Field: 277\n",
      "Parameters that are Activated for Refitting: 233\n"
     ]
    }
   ],
   "source": [
    "# Count how many parameters we have and how many are activated by default\n",
    "print('Parameters in Force Field: {}'.format(len(parameters)))\n",
    "print('Parameters that are Activated for Refitting: {}'.format(len(parameters.active)))"
   ]
  },
  {
   "cell_type": "code",
   "execution_count": 113,
   "metadata": {
    "tags": []
   },
   "outputs": [
    {
     "name": "stdout",
     "output_type": "stream",
     "text": [
      ".................................................\n",
      "Name:     p_boc2;;4d;;Overcoordination parameter\n",
      "Value:    9.5469\n",
      "Range:    (7.637520000000001, 11.45628)\n",
      "Active:   True\n",
      "\n"
     ]
    }
   ],
   "source": [
    "print(parameters[1])"
   ]
  },
  {
   "cell_type": "markdown",
   "metadata": {},
   "source": [
    "Let us now assume in this particular case the LennardJones potential is a DFT-like method that is able to generate very precise training data for ReaxFF. We have noticed that ReaxFF is badly reproducing the O-H bond, and therefore we are going to activate O-H relevant parameters"
   ]
  },
  {
   "cell_type": "code",
   "execution_count": 114,
   "metadata": {},
   "outputs": [
    {
     "name": "stdout",
     "output_type": "stream",
     "text": [
      "Parameters that are Activated for Refitting: 0\n"
     ]
    }
   ],
   "source": [
    "# First we deactive all the parameters in the force field\n",
    "for param in parameters:\n",
    "    param.is_active = False\n",
    "print('Parameters that are Activated for Refitting: {}'.format(len(parameters.active)))"
   ]
  },
  {
   "cell_type": "code",
   "execution_count": 115,
   "metadata": {
    "collapsed": true,
    "jupyter": {
     "outputs_hidden": true
    },
    "tags": []
   },
   "outputs": [
    {
     "name": "stdout",
     "output_type": "stream",
     "text": [
      "...............................................................\n",
      "Name:     H.O:D_e^sigma;;6,11a;;Sigma-bond dissociation energy\n",
      "Value:    167.2086\n",
      "Range:    (133.76688000000001, 200.65031999999997)\n",
      "Active:   False\n",
      "\n",
      ".....................................................\n",
      "Name:     H.O:D_e^pi;;6;;Pi-bond dissociation energy\n",
      "Value:    0.0\n",
      "Range:    (-1, 1)\n",
      "Active:   False\n",
      "\n",
      "..............................................................\n",
      "Name:     H.O:D_e^pipi;;6;;Double pi-bond dissociation energy\n",
      "Value:    0.0\n",
      "Range:    (-1, 1)\n",
      "Active:   False\n",
      "\n",
      "..............................................\n",
      "Name:     H.O:p_be1;;6;;Bond energy parameter\n",
      "Value:    -0.577\n",
      "Range:    (-0.6923999999999999, -0.4616)\n",
      "Active:   False\n",
      "\n",
      ".................................................\n",
      "Name:     H.O:p_bo5;;2;;Double pi bond parameter\n",
      "Value:    0.0\n",
      "Range:    (-1, 1)\n",
      "Active:   False\n",
      "\n",
      "........................................................\n",
      "Name:     H.O:Val'_i^boc;;3b;;1,3-Bond order correction\n",
      "Value:    1.0\n",
      "Range:    (0.8, 1.2)\n",
      "Active:   False\n",
      "\n",
      ".............................................\n",
      "Name:     H.O:p_bo6;;2;;Double pi bond order\n",
      "Value:    6.0\n",
      "Range:    (4.800000000000001, 7.199999999999999)\n",
      "Active:   False\n",
      "\n",
      ".....................................................\n",
      "Name:     H.O:p_ovun1;;11a;;Overcoordination penalty\n",
      "Value:    0.6019\n",
      "Range:    (0.48152, 0.7222799999999999)\n",
      "Active:   False\n",
      "\n",
      "..............................................\n",
      "Name:     H.O:p_be2;;6;;Bond energy parameter\n",
      "Value:    1.1413\n",
      "Range:    (0.9130400000000001, 1.3695599999999999)\n",
      "Active:   False\n",
      "\n",
      "................................................\n",
      "Name:     H.O:p_bo3;;2;;Pi bond order parameter\n",
      "Value:    1.0\n",
      "Range:    (0.8, 1.2)\n",
      "Active:   False\n",
      "\n",
      "................................................\n",
      "Name:     H.O:p_bo4;;2;;Pi bond order parameter\n",
      "Value:    0.0\n",
      "Range:    (-1, 1)\n",
      "Active:   False\n",
      "\n",
      "............................\n",
      "Name:     H.O:n/a;;n/a;;n/a\n",
      "Value:    0.0\n",
      "Range:    (-1, 1)\n",
      "Active:   False\n",
      "\n",
      ".........................................\n",
      "Name:     H.O:p_bo1;;2;;Sigma bond order\n",
      "Value:    -0.0924\n",
      "Range:    (-0.11087999999999999, -0.07392)\n",
      "Active:   False\n",
      "\n",
      ".........................................\n",
      "Name:     H.O:p_bo2;;2;;Sigma bond order\n",
      "Value:    4.2778\n",
      "Range:    (3.4222400000000004, 5.13336)\n",
      "Active:   False\n",
      "\n",
      "............................................................\n",
      "Name:     H.O:delta'_i;;3a;;Uncorrected BO overcoordination\n",
      "Value:    0.0\n",
      "Range:    (-1, 1)\n",
      "Active:   False\n",
      "\n",
      "....................................................................................................\n",
      "Name:     H.O:p_ij^xel1;;27;;eReaxFF param for adjusting number of electrons available to host atom\n",
      "Value:    0.0\n",
      "Range:    (-1, 1)\n",
      "Active:   False\n",
      "\n",
      "....................................\n",
      "Name:     H.O:D_ij;;23a;;VdW energy\n",
      "Value:    0.032\n",
      "Range:    (0.0256, 0.0384)\n",
      "Active:   False\n",
      "\n",
      ".....................................\n",
      "Name:     H.O:r_vdW;;23a;;VdW radius\n",
      "Value:    1.2896\n",
      "Range:    (1.0316800000000002, 1.54752)\n",
      "Active:   False\n",
      "\n",
      "...........................................\n",
      "Name:     H.O:alpha_ij;;23a;;VdW parameter\n",
      "Value:    10.9108\n",
      "Range:    (8.72864, 13.09296)\n",
      "Active:   False\n",
      "\n",
      "..............................................\n",
      "Name:     H.O:r_0^sigma;;2;;Sigma bond length\n",
      "Value:    0.9215\n",
      "Range:    (0.7372000000000001, 1.1058)\n",
      "Active:   False\n",
      "\n",
      "........................................\n",
      "Name:     H.O:r_0^pi;;2;;Pi bond length\n",
      "Value:    -1.0\n",
      "Range:    (-1.2, -0.8)\n",
      "Active:   False\n",
      "\n",
      "............................................\n",
      "Name:     H.O:r_0^pipi;;2;;PiPi bond length\n",
      "Value:    -1.0\n",
      "Range:    (-1.2, -0.8)\n",
      "Active:   False\n",
      "\n"
     ]
    }
   ],
   "source": [
    "# We define in which atoms we are interested\n",
    "atoms_of_interest = ['H','O']\n",
    "\n",
    "# We loop over all parameters and search for parameters that are dependent \n",
    "# on these  2 atoms\n",
    "i=0\n",
    "for param in parameters:\n",
    "    if param.atoms == atoms_of_interest:\n",
    "        i+=1\n",
    "        print(param)"
   ]
  },
  {
   "cell_type": "code",
   "execution_count": 86,
   "metadata": {},
   "outputs": [],
   "source": [
    "# We have manually selected 4 parameters that we would like to optimise.\n",
    "# Note that you can also partly automate this process by focussing on the names\n",
    "to_activate = ['H.O:D_e^sigma;;6,11a;;Sigma-bond dissociation energy',\n",
    "               'H.O:D_e^pi;;6;;Pi-bond dissociation energy',\n",
    "               'H.O:p_ovun1;;11a;;Overcoordination penalty',\n",
    "               'H.O:p_bo2;;2;;Sigma bond order']\n",
    "\n",
    "\n",
    "for param in parameters:\n",
    "    if param.name in to_activate:\n",
    "        param.is_active = True"
   ]
  },
  {
   "cell_type": "code",
   "execution_count": 116,
   "metadata": {},
   "outputs": [
    {
     "name": "stdout",
     "output_type": "stream",
     "text": [
      "Parameters that are Activated for Refitting: 15\n"
     ]
    }
   ],
   "source": [
    "for param in parameters:\n",
    "    if (param.atoms == atoms_of_interest) and (param.value != 0.0):\n",
    "        param.is_active = True\n",
    "print('Parameters that are Activated for Refitting: {}'.format(len(parameters.active)))"
   ]
  },
  {
   "cell_type": "markdown",
   "metadata": {},
   "source": [
    "### 4.2 Generating the training data using the LennardJones potential\n",
    "this is based on the example that we did in section 2"
   ]
  },
  {
   "cell_type": "code",
   "execution_count": 119,
   "metadata": {},
   "outputs": [],
   "source": [
    "# First we build a set with the molecules\n",
    "molecules = []\n",
    "for d in np.arange(0.9, 2, 0.05):\n",
    "    mol = Molecule()\n",
    "    atom1 = Atom(symbol='H', coords=(0,0,0))\n",
    "    atom2 = Atom(symbol='O', coords=(d,0,0))\n",
    "    mol.add_atom(atom1)\n",
    "    mol.add_atom(atom2)\n",
    "    molecules.append(mol)"
   ]
  },
  {
   "cell_type": "code",
   "execution_count": null,
   "metadata": {},
   "outputs": [],
   "source": [
    "# Define the jobrunner, and set the parallel option to True\n",
    "config.default_jobrunner = JobRunner(parallel=True)\n",
    "\n",
    "# Defining the settings for Single Point Lennard Jones\n",
    "s = Settings()\n",
    "s.input.ams.Task = 'Singlepoint'\n",
    "s.input.LennardJones.Cutoff = 10\n",
    "\n",
    "Jobs = []\n",
    "\n",
    "# Here we build up the Jobs. We start by generating a molecule in each loop, setting one H-atom at the center, \n",
    "# then one at a distance d in one direction. We set d from 0.5 till 4.1 with 0.1 intervals\n",
    "for d in np.arange(0.9, 2, 0.05):\n",
    "    print('Setting up molecule with distance {:3f}'.format(d))\n",
    "    mol = Molecule()\n",
    "    atom1 = Atom(symbol='H', coords=(0,0,0))\n",
    "    atom2 = Atom(symbol='O', coords=(d,0,0))\n",
    "    mol.add_atom(atom1)\n",
    "    mol.add_atom(atom2)\n",
    "    job = AMSJob(molecule=mol, settings=s)\n",
    "    job.name = 'distance_{:3f}'.format(d)\n",
    "    Jobs.append(job)"
   ]
  },
  {
   "cell_type": "markdown",
   "metadata": {},
   "source": [
    "### 4.2 Setting up the configurations for the optimization\n",
    "In this part, we will define the optimizer, callbacks and so on."
   ]
  },
  {
   "cell_type": "code",
   "execution_count": null,
   "metadata": {},
   "outputs": [],
   "source": []
  }
 ],
 "metadata": {
  "kernelspec": {
   "display_name": "Python 3.6.9 64-bit ('AMS2020.1.venv': venv)",
   "language": "python",
   "name": "python36964bitams20201venvvenvf4f9171816a541b59e6e20901e319a95"
  },
  "language_info": {
   "codemirror_mode": {
    "name": "ipython",
    "version": 3
   },
   "file_extension": ".py",
   "mimetype": "text/x-python",
   "name": "python",
   "nbconvert_exporter": "python",
   "pygments_lexer": "ipython3",
   "version": "3.6.9"
  }
 },
 "nbformat": 4,
 "nbformat_minor": 4
}
