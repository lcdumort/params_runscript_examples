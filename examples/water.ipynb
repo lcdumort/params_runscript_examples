{
 "cells": [
  {
   "cell_type": "markdown",
   "metadata": {},
   "source": [
    "# Examples Using a Water Molecule\n",
    "\n",
    "This is a basic example workflow where we will perform some calculations with **AMS2020.1**. The examples are similar to the official documentation, but have some additional documentation available.\n",
    "\n",
    "## 0. Setting up the environment\n",
    "\n",
    "First of all, we need to assure that we use the ams python shell. this can be assured in Jupyter lab by looking on the upperright corner, where we see 'AMS2020.1.venv'. When using a script, the relevant python-shell can be set by starting the script with a shebang (assure that AMS is loaded or installed).\n",
    "```python\n",
    "#!/usr/bin/env amspython\n",
    "```\n",
    "or\n",
    "```python\n",
    "#~/ams2021.202.r94433/bin/amspython\n",
    "```\n",
    "First of all,\n",
    "We import all functions from plams and params using the first 2 lines of code.\n",
    "\n",
    "On top, we import \n",
    "* ```numpy```. This is a numerical python library that includes highly-efficient array operations.\n",
    "* ```matplotlib```. Popular plotting library\n",
    "\n",
    "Once all libraries are imported, we assign a few paths to the relevant files. \n",
    "```ffield``` points to the water force field, ```geo``` to the geo file, *etc...*.\n",
    "These will be used later on."
   ]
  },
  {
   "cell_type": "code",
   "execution_count": null,
   "metadata": {},
   "outputs": [],
   "source": [
    "from scm.plams import *\n",
    "from scm.params import *\n",
    "\n",
    "import numpy as np\n",
    "import matplotlib.pyplot as plt"
   ]
  },
  {
   "cell_type": "code",
   "execution_count": null,
   "metadata": {},
   "outputs": [],
   "source": [
    "# Assigning the different (full) paths to the relevant files\n",
    "ffield = '/work/dumortil/Documents/software/params_runscript_examples/data/Water2017.ff'\n",
    "geo = '/work/dumortil/Documents/software/params_runscript_examples/data/geo'\n",
    "trainingset = '/work/dumortil/Documents/software/params_runscript_examples/data/trainset.in'\n",
    "xyz = '/work/dumortil/Documents/software/params_runscript_examples/data/water.xyz'"
   ]
  },
  {
   "cell_type": "markdown",
   "metadata": {},
   "source": [
    "## 1. Geometry Optimization\n",
    "In the next part, we will focus on Geometry Optimization. The geometry optimization procedure itself does not change, however we are going to set up the environment with 3 different approaches: Using a conversion from the old input files, using the conventional input file and building it up from scratch."
   ]
  },
  {
   "cell_type": "markdown",
   "metadata": {},
   "source": [
    "### 1.1 Compatible with old interface"
   ]
  },
  {
   "cell_type": "code",
   "execution_count": null,
   "metadata": {},
   "outputs": [],
   "source": [
    "# Defining the settings for the geometry optimization\n",
    "s = Settings()\n",
    "s.input.ams.Task = 'GeometryOptimization'\n",
    "s.input.ams.GeometryOptimization.Method = 'FIRE'\n",
    "s.input.ams.GeometryOptimization.MaxIterations = 1000\n",
    "s.input.reaxff.ForceField = ffield"
   ]
  },
  {
   "cell_type": "code",
   "execution_count": null,
   "metadata": {},
   "outputs": [],
   "source": [
    "# Here we read in the geo file. It automatically extracts some settings. \n",
    "# Extra settings can be provided by the normal_run_settings.\n",
    "# If you want to edit the settings, you must do this afterwards.\n",
    "jobcollection = geo_to_params(geo, normal_run_settings=Settings())\n",
    "jobs = jobcollection.to_amsjobs()\n",
    "jobs[0].settings = s"
   ]
  },
  {
   "cell_type": "code",
   "execution_count": null,
   "metadata": {},
   "outputs": [],
   "source": [
    "# starting the geometry optimization\n",
    "# This first requires an init() and must be closed with the finish() command.\n",
    "init()\n",
    "jr = JobRunner(parallel=True, maxjobs=0)\n",
    "jobs[0].run(jobrunner=jr)\n",
    "finish()"
   ]
  },
  {
   "cell_type": "markdown",
   "metadata": {},
   "source": [
    "### 1.3 From *.xyz* file\n",
    "By reading in a xyz file instead, we can circumvent the conversion of the old reaxff interface. This approach is the most conventional way of working with plams and ParAMS."
   ]
  },
  {
   "cell_type": "code",
   "execution_count": null,
   "metadata": {},
   "outputs": [],
   "source": [
    "# Reading in the xyz-file that contains the configuration of the water molecule\n",
    "mol = Molecule(xyz)\n",
    "print(mol)"
   ]
  },
  {
   "cell_type": "code",
   "execution_count": null,
   "metadata": {},
   "outputs": [],
   "source": [
    "# Add a small disturbance\n",
    "mol.atoms[2].coords=(1.0,0.0,-0.4)"
   ]
  },
  {
   "cell_type": "code",
   "execution_count": null,
   "metadata": {},
   "outputs": [],
   "source": [
    "# Defining the settings for the geometry optimization\n",
    "s = Settings()\n",
    "s.input.ams.Task = 'GeometryOptimization'\n",
    "s.input.ams.GeometryOptimization.Method = 'FIRE'\n",
    "s.input.ams.GeometryOptimization.MaxIterations = 1000\n",
    "s.input.reaxff.ForceField = ffield"
   ]
  },
  {
   "cell_type": "code",
   "execution_count": null,
   "metadata": {},
   "outputs": [],
   "source": [
    "# Building the job\n",
    "job = AMSJob(molecule=mol, settings=s)"
   ]
  },
  {
   "cell_type": "code",
   "execution_count": null,
   "metadata": {},
   "outputs": [],
   "source": [
    "init()\n",
    "results = job.run()\n",
    "finish()"
   ]
  },
  {
   "cell_type": "markdown",
   "metadata": {},
   "source": [
    "### 1.2 From scratch\n",
    "Here we will build up the molecule from scratch and build the job that needs to be run. Such an approach can be useful for generating small molecules, exotic molecules, highly symmetric molecules (exploit loops) and/or manually adding disturbances."
   ]
  },
  {
   "cell_type": "code",
   "execution_count": null,
   "metadata": {},
   "outputs": [],
   "source": [
    "mol = Molecule()\n",
    "mol.add_atom(Atom(symbol='O', coords=(0.00,0.00,0.00)))\n",
    "mol.add_atom(Atom(symbol='H', coords=(1.00,0.00,1)))\n",
    "mol.add_atom(Atom(symbol='H', coords=(0.00,1.00,-1)))\n"
   ]
  },
  {
   "cell_type": "code",
   "execution_count": null,
   "metadata": {},
   "outputs": [],
   "source": [
    "# Defining the settings for the geometry optimization\n",
    "s = Settings()\n",
    "s.input.ams.Task = 'GeometryOptimization'\n",
    "s.input.ams.GeometryOptimization.Method = 'FIRE'\n",
    "s.input.ams.GeometryOptimization.MaxIterations = 1000\n",
    "s.input.reaxff.ForceField = ffield"
   ]
  },
  {
   "cell_type": "code",
   "execution_count": null,
   "metadata": {},
   "outputs": [],
   "source": [
    "print(mol)"
   ]
  },
  {
   "cell_type": "code",
   "execution_count": null,
   "metadata": {},
   "outputs": [],
   "source": [
    "# Building the job\n",
    "job = AMSJob(molecule=mol, settings=s)"
   ]
  },
  {
   "cell_type": "code",
   "execution_count": null,
   "metadata": {},
   "outputs": [],
   "source": [
    "init()\n",
    "results = job.run()\n",
    "finish()"
   ]
  },
  {
   "cell_type": "code",
   "execution_count": null,
   "metadata": {},
   "outputs": [],
   "source": [
    "# We can extract properties immediately, allowing to forward them immediately to the next process within the same script\n",
    "endmolecule = results.get_main_molecule()\n",
    "print(endmolecule)"
   ]
  },
  {
   "cell_type": "markdown",
   "metadata": {},
   "source": [
    "## 2. Multiple parallellized singlepoint calculations with a LennardJones potential\n",
    "This can be handy when DFT-code is available. For now, we use a simple LennardJones potential. Note that ParAMS and AMS can make use of multiple cores, but not yet of multiple nodes. There is the possibility to use all cores to solve the problems sequentially, or assign one core to one problem.\n"
   ]
  },
  {
   "cell_type": "markdown",
   "metadata": {},
   "source": [
    "### 2.1 Calculate 'reference'-data using the LennardJones potential"
   ]
  },
  {
   "cell_type": "code",
   "execution_count": null,
   "metadata": {},
   "outputs": [],
   "source": [
    "# Define the jobrunner, and set the parallel option to True\n",
    "config.default_jobrunner = JobRunner(parallel=True)"
   ]
  },
  {
   "cell_type": "code",
   "execution_count": null,
   "metadata": {},
   "outputs": [],
   "source": [
    "# Defining the settings for Single Point Lennard Jones\n",
    "s = Settings()\n",
    "s.input.ams.Task = 'Singlepoint'\n",
    "s.input.LennardJones.Cutoff = 10"
   ]
  },
  {
   "cell_type": "code",
   "execution_count": null,
   "metadata": {},
   "outputs": [],
   "source": [
    "print(s)"
   ]
  },
  {
   "cell_type": "code",
   "execution_count": null,
   "metadata": {},
   "outputs": [],
   "source": [
    "# Build multiple 'molecules' of H-H with different distances between each other\n",
    "# This can be conveniently done using a for-loop in python\n",
    "\n",
    "# first, we create an empty list 'jobs' to store all the job specifications (i.e. a singlepoint calculation)\n",
    "# These can then later be launched\n",
    "Jobs = []\n",
    "\n",
    "# Here we build up the Jobs. We start by generating a molecule in each loop, setting one H-atom at the center, \n",
    "# then one at a distance d in one direction. We set d from 0.5 till 4.1 with 0.1 intervals\n",
    "for d in np.arange(0.9, 2, 0.05):\n",
    "    print('Setting up molecule with distance {:3f}'.format(d))\n",
    "    mol = Molecule()\n",
    "    atom1 = Atom(symbol='H', coords=(0,0,0))\n",
    "    atom2 = Atom(symbol='H', coords=(d,0,0))\n",
    "    mol.add_atom(atom1)\n",
    "    mol.add_atom(atom2)\n",
    "    job = AMSJob(molecule=mol, settings=s)\n",
    "    job.name = 'distance_{:3f}'.format(d)\n",
    "    Jobs.append(job)"
   ]
  },
  {
   "cell_type": "code",
   "execution_count": null,
   "metadata": {
    "tags": []
   },
   "outputs": [],
   "source": [
    "# Now we can start all the jobs in parallel. We will store the results as well\n",
    "results_lennard =[]\n",
    "\n",
    "init()\n",
    "for job in Jobs:\n",
    "    results_lennard.append(job.run())\n",
    "finish()"
   ]
  },
  {
   "cell_type": "code",
   "execution_count": null,
   "metadata": {},
   "outputs": [],
   "source": [
    "# Extracting the information a nice graph of the energy in function of the distances\n",
    "distances = []\n",
    "energies = []\n",
    "for res in results_lennard:\n",
    "    energies.append(res.get_energy())\n",
    "    mol = res.get_main_molecule()\n",
    "    distance = mol.atoms[1].coords[0] - mol.atoms[0].coords[0]\n",
    "    distances.append(distance)"
   ]
  },
  {
   "cell_type": "code",
   "execution_count": null,
   "metadata": {},
   "outputs": [],
   "source": [
    "print('Distances: {}'.format(distances))\n",
    "print('Energies: {}'.format(energies))"
   ]
  },
  {
   "cell_type": "code",
   "execution_count": null,
   "metadata": {},
   "outputs": [],
   "source": [
    "fig, ax = plt.subplots()\n",
    "ax.plot(distances, energies)\n",
    "ax.set_title('Energy using the Lennard Jones potential')\n",
    "ax.set_xlabel('Distance')\n",
    "ax.set_ylabel('Energy')\n",
    "\n",
    "plt.tight_layout()\n",
    "plt.show()"
   ]
  },
  {
   "cell_type": "markdown",
   "metadata": {},
   "source": [
    "## 3. Molecular Dynamics\n",
    "Let's set up some Molecular dynamics with a few water molecules. We use the AMSInput GUI to define which settings we need.\n",
    "\n",
    "<img src='../md_water.png' alt='watermd'>"
   ]
  },
  {
   "cell_type": "code",
   "execution_count": null,
   "metadata": {},
   "outputs": [],
   "source": [
    "# We use the runscript to guide our settings\n",
    "s = Settings()\n",
    "\n",
    "# setting up the molecular dynamics\n",
    "s.input.ams.Task = 'MolecularDynamics'\n",
    "s.input.ams.MolecularDynamics.Nsteps = 10000\n",
    "s.input.ams.MolecularDynamics.TimeStep = 0.1\n",
    "s.input.ams.MolecularDynamics.InitialVelocities.Temperature = 10\n",
    "\n",
    "# Setting up the thermostat\n",
    "s.input.ams.MolecularDynamics.Thermostat.Type = 'NHC'\n",
    "s.input.ams.MolecularDynamics.Thermostat.Temperature = 10\n",
    "s.input.ams.MolecularDynamics.Thermostat.Tau = 15\n",
    "\n",
    "# Setting up the engine and forcefield\n",
    "s.input.reaxff.ForceField = ffield\n",
    "s.input.reaxff.TaperBO = True"
   ]
  },
  {
   "cell_type": "code",
   "execution_count": null,
   "metadata": {},
   "outputs": [],
   "source": [
    "# Read in the xyz file with 5 watermolecules quite close to each other\n",
    "multiple_molecules = '../data/5_water_mol.xyz'\n",
    "molecules = Molecule(multiple_molecules)"
   ]
  },
  {
   "cell_type": "code",
   "execution_count": null,
   "metadata": {},
   "outputs": [],
   "source": [
    "job = AMSJob(molecule=molecules, settings=s)\n",
    "job.name = 'watermd'"
   ]
  },
  {
   "cell_type": "code",
   "execution_count": null,
   "metadata": {},
   "outputs": [],
   "source": [
    "init()\n",
    "job.run()\n",
    "finish()"
   ]
  },
  {
   "cell_type": "markdown",
   "metadata": {},
   "source": [
    "## 4. Parameter optimization using ParAMS\n",
    "Up until now, ParAMS has only been used for some additional support on conversion between the old and new interface. It is only from this point on that ParAMS is to play a major role: the reparametrization of the force field. Note that ParAMS is the standard tool to reparametrize any tool that needs reparametrization in the AMS-suite."
   ]
  },
  {
   "cell_type": "markdown",
   "metadata": {},
   "source": [
    "### 4.1 Selecting Parameters to Optimize\n",
    "We start the process with reading in the force field. Note that this is a major difference than what we did earlier: In the earlier implementation, plams only pointed out to the engine where to find the force field, it never read it out itself. In other words, it is only the ReaxFF C++/fortran code that read in the force field. Using ParAMS, we have tools to read in and edit the Force Field using python itself."
   ]
  },
  {
   "cell_type": "code",
   "execution_count": null,
   "metadata": {},
   "outputs": [],
   "source": [
    "# Note that we read in the force field specifically here.\n",
    "parameters = ReaxParams(ffield)"
   ]
  },
  {
   "cell_type": "code",
   "execution_count": null,
   "metadata": {},
   "outputs": [],
   "source": [
    "# Count how many parameters we have and how many are activated by default\n",
    "print('Parameters in Force Field: {}'.format(len(parameters)))\n",
    "print('Parameters that are Activated for Refitting: {}'.format(len(parameters.active)))"
   ]
  },
  {
   "cell_type": "code",
   "execution_count": null,
   "metadata": {
    "tags": []
   },
   "outputs": [],
   "source": [
    "print(parameters[1])"
   ]
  },
  {
   "cell_type": "markdown",
   "metadata": {},
   "source": [
    "Let us now assume in this particular case the LennardJones potential is a DFT-like method that is able to generate very precise training data for ReaxFF. We have noticed that ReaxFF is badly reproducing the O-H bond, and therefore we are going to activate O-H relevant parameters"
   ]
  },
  {
   "cell_type": "code",
   "execution_count": null,
   "metadata": {},
   "outputs": [],
   "source": [
    "# First we deactive all the parameters in the force field\n",
    "for param in parameters:\n",
    "    param.is_active = False\n",
    "print('Parameters that are Activated for Refitting: {}'.format(len(parameters.active)))"
   ]
  },
  {
   "cell_type": "code",
   "execution_count": null,
   "metadata": {
    "tags": []
   },
   "outputs": [],
   "source": [
    "# We define in which atoms we are interested\n",
    "atoms_of_interest = ['H','O']"
   ]
  },
  {
   "cell_type": "code",
   "execution_count": null,
   "metadata": {},
   "outputs": [],
   "source": [
    "'''\n",
    "# We have manually selected 4 parameters that we would like to optimise.\n",
    "# Note that you can also partly automate this process by focussing on the names\n",
    "to_activate = ['H.O:D_e^sigma;;6,11a;;Sigma-bond dissociation energy',\n",
    "               'H.O:D_e^pi;;6;;Pi-bond dissociation energy',\n",
    "               'H.O:p_ovun1;;11a;;Overcoordination penalty',\n",
    "               'H.O:p_bo2;;2;;Sigma bond order']\n",
    "\n",
    "for param in parameters:\n",
    "    if param.name in to_activate:\n",
    "        param.is_active = True\n",
    "        '''"
   ]
  },
  {
   "cell_type": "code",
   "execution_count": null,
   "metadata": {},
   "outputs": [],
   "source": [
    "atoms_of_interest = set(['H','O'])\n",
    "for param in parameters:\n",
    "    if (set(param.atoms) == atoms_of_interest) and (param.value != 0.0):\n",
    "        param.is_active = True\n",
    "        \n",
    "print('Parameters that are Activated for Refitting: {}'.format(len(parameters.active)))\n"
   ]
  },
  {
   "cell_type": "code",
   "execution_count": null,
   "metadata": {},
   "outputs": [],
   "source": [
    "# ignore: adding a little disturbance to \n",
    "# We have manually selected 4 parameters that we would like to optimise.\n",
    "# Note that you can also partly automate this process by focussing on the names\n",
    "for param in parameters.active:\n",
    "        param.value=param.value*(1+np.random.rand()*0.15)"
   ]
  },
  {
   "cell_type": "markdown",
   "metadata": {},
   "source": [
    "### **ADDENDA** Generating training data using the correct ReaxFF\n",
    "this is based on the example that we did in section 2. However, ParAMS needs a JobCollection, a more advanced 'list' that combines the settings and molecules. Next, it needs a DataSet where the reference results can be stored. Note that this can also be build up using AMStrain, and then directly red in as a DataSet. This latter approach makes this section unneccesary."
   ]
  },
  {
   "cell_type": "code",
   "execution_count": null,
   "metadata": {},
   "outputs": [],
   "source": [
    "# First we build a set with the molecules. Here we do this separately so\n",
    "# we can compare both force fields\n",
    "distances = np.arange(1, 2, 0.05)\n",
    "molecules = []\n",
    "for d in distances:\n",
    "    mol = Molecule()\n",
    "    atom1 = Atom(symbol='H', coords=(0,0,0))\n",
    "    atom2 = Atom(symbol='O', coords=(d,0,0))\n",
    "    mol.add_atom(atom1)\n",
    "    mol.add_atom(atom2)\n",
    "    molecules.append(mol)"
   ]
  },
  {
   "cell_type": "code",
   "execution_count": null,
   "metadata": {},
   "outputs": [],
   "source": [
    "# Defining the settings for Single Point Lennard Jones\n",
    "s = Settings()\n",
    "s.input.ams.Task = 'Singlepoint'\n",
    "s.input.ReaxFF.ForceField = ffield"
   ]
  },
  {
   "cell_type": "code",
   "execution_count": null,
   "metadata": {},
   "outputs": [],
   "source": [
    "JC = JobCollection()\n",
    "\n",
    "# Now we add the jobs to the jobcollection, combined with the relevant molecule\n",
    "i=0\n",
    "for mol, d in zip(molecules, distances):\n",
    "    jce = JCEntry()\n",
    "    jce.settings = s\n",
    "    jce.molecule = mol\n",
    "    JC.add_entry('OH_{}'.format(i), jce)\n",
    "    i+=1"
   ]
  },
  {
   "cell_type": "code",
   "execution_count": null,
   "metadata": {
    "tags": []
   },
   "outputs": [],
   "source": [
    "# We have calculated the results using the reference engine\n",
    "refresults = JC.run(s) # Run every entry in JC with engine settings defined in line 25"
   ]
  },
  {
   "cell_type": "code",
   "execution_count": null,
   "metadata": {},
   "outputs": [],
   "source": [
    "# Storing the reference results to the trainingset. Here we will train on the energy\n",
    "DS = DataSet()\n",
    "for name,entry in JC.items():\n",
    "    DS.add_entry(f\"energy('{name}')\", 1.0)"
   ]
  },
  {
   "cell_type": "code",
   "execution_count": null,
   "metadata": {},
   "outputs": [],
   "source": [
    "# We extract the results and store them into trainingset.yaml for later use\n",
    "DS.calculate_reference(refresults)\n",
    "DS.store('trainingset.yaml')"
   ]
  },
  {
   "cell_type": "markdown",
   "metadata": {},
   "source": [
    "### 4.2 *bis* Read in a trainset"
   ]
  },
  {
   "cell_type": "code",
   "execution_count": null,
   "metadata": {},
   "outputs": [],
   "source": [
    "s = Settings()\n",
    "s.input.ams.Task = 'geometryoptimization'\n",
    "s.input.ams.geometryoptimization.Method = 'FIRE'\n",
    "s.input.ams.geometryoptimization.MaxIterations =100 "
   ]
  },
  {
   "cell_type": "code",
   "execution_count": null,
   "metadata": {},
   "outputs": [],
   "source": [
    "# Read in using the function trainset_to_params\n",
    "trainsetfile = '../data/trainset_water.in'\n",
    "reference = trainset_to_params(trainsetfile)"
   ]
  },
  {
   "cell_type": "code",
   "execution_count": null,
   "metadata": {},
   "outputs": [],
   "source": [
    "print(reference)"
   ]
  },
  {
   "cell_type": "code",
   "execution_count": null,
   "metadata": {},
   "outputs": [],
   "source": [
    "JC = JobCollection()\n",
    "jce = JCEntry()\n",
    "jce.settings = s\n",
    "jce.molecule = Molecule(xyz)\n",
    "JC.add_entry('water',jce)"
   ]
  },
  {
   "cell_type": "markdown",
   "metadata": {},
   "source": [
    "### 4.3 Setting up the configurations for the optimization\n",
    "In this part, we will define the optimizer, callbacks and so on. The optimizer will be set as a CMAOptimizer, while we will use a callback of 2 minutes and a Logger."
   ]
  },
  {
   "cell_type": "code",
   "execution_count": null,
   "metadata": {},
   "outputs": [],
   "source": [
    "# Setting the optimizer\n",
    "optimizer = CMAOptimizer(sigma=0.03, popsize=10)\n",
    "\n",
    "# Setting the callback\n",
    "callbacks = [Timeout(2*60), Logger(), TargetValue(10)]"
   ]
  },
  {
   "cell_type": "markdown",
   "metadata": {},
   "source": [
    "### 4.4 Start the optimization\n",
    "This is done using two line command where we provide the optimizer, callbacks and training set"
   ]
  },
  {
   "cell_type": "code",
   "execution_count": null,
   "metadata": {},
   "outputs": [],
   "source": [
    "optim = Optimization(JC, reference, parameters, optimizer, callbacks=callbacks)\n",
    "optim.optimize()"
   ]
  },
  {
   "cell_type": "code",
   "execution_count": null,
   "metadata": {},
   "outputs": [],
   "source": []
  }
 ],
 "metadata": {
  "kernelspec": {
   "display_name": "Python 3.6.9 64-bit ('AMS2020.1.venv': venv)",
   "language": "python",
   "name": "python36964bitams20201venvvenvf4f9171816a541b59e6e20901e319a95"
  },
  "language_info": {
   "codemirror_mode": {
    "name": "ipython",
    "version": 3
   },
   "file_extension": ".py",
   "mimetype": "text/x-python",
   "name": "python",
   "nbconvert_exporter": "python",
   "pygments_lexer": "ipython3",
   "version": "3.6.9"
  }
 },
 "nbformat": 4,
 "nbformat_minor": 4
}
